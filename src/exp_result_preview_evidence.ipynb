{
 "cells": [
  {
   "cell_type": "markdown",
   "metadata": {},
   "source": [
    "## Evidence Alignment Analysis\n",
    "\n",
    "### Data Ingestion\n",
    "- load the evidence alignment results\n",
    "- unpack the experiment config results"
   ]
  },
  {
   "cell_type": "code",
   "execution_count": null,
   "metadata": {},
   "outputs": [],
   "source": [
    "import os\n",
    "from typing import List, Dict\n",
    "import json\n",
    "import pandas as pd\n",
    "import sys\n",
    "sys.path.append('/home/ubuntu/BioDSA') # this will need to be updated for other machines/folders\n",
    "from src import (\n",
    "    REPO_ROOT,\n",
    "    TOP_LEVEL_LOG_DIR,\n",
    "    HYPOTHESIS_DIR\n",
    ")\n",
    "\n",
    "LOG_DIR = os.path.join(TOP_LEVEL_LOG_DIR, \"eval_evidence_alignment\")\n",
    "print(LOG_DIR)\n",
    "# location of the dataset to evaluate\n",
    "BASE_DATASET_PATH = os.path.join(REPO_ROOT, \"benchmark_datasets/cBioPortal\")\n",
    "\n",
    "# location of the hypothesis & dataset metadata\n",
    "BASE_HYPOTHESIS_PATH = os.path.join(BASE_DATASET_PATH, \"hypothesis\")\n",
    "BASE_DATASET_METADATA_PATH = os.path.join(BASE_DATASET_PATH, \"dataset_metadata\")\n",
    "\n",
    "EVIDENCE_ALIGNMENT_RESULTS_FILE = os.path.join(LOG_DIR, \"eval_results.json\")\n",
    "\n",
    "df = pd.read_json(EVIDENCE_ALIGNMENT_RESULTS_FILE)\n",
    "df"
   ]
  },
  {
   "cell_type": "code",
   "execution_count": null,
   "metadata": {},
   "outputs": [],
   "source": [
    "# unpack the experiment_config column into separate columns\n",
    "\n",
    "df = pd.concat([df.drop('experiment_config', axis=1), df['experiment_config'].apply(pd.Series)], axis=1)\n",
    "\n",
    "# extract the agent type, which is composed of the agent_type, and it's hyperparameters\n",
    "def get_agent_type(row: Dict) -> str:\n",
    "    \"\"\"\n",
    "    Format agent type based on configuration.\n",
    "    For react agent: (react, step_count)\n",
    "    For reasoning coder: (reasoning_coder, planning_model, coding_model)\n",
    "    For coder: (coder, model_name)\n",
    "    \"\"\"\n",
    "    agent_type = row[\"agent_type\"]\n",
    "    if agent_type == \"react\":\n",
    "        return f\"(react, {row['step_count']}, {row['model_name']})\"\n",
    "    elif agent_type == \"reasoning_coder\":\n",
    "        return f\"(reasoning_coder, {row['planning_model']}, {row['coding_model']})\"\n",
    "    elif agent_type == \"coder\":\n",
    "        return f\"(coder, {row['model_name']})\"\n",
    "    elif agent_type == \"reasoning_react\":\n",
    "        return f\"(reasoning_react, {row['plan_model_name']}, {row['agent_model_name']}, {row['step_count']})\"\n",
    "    return agent_type\n",
    "\n",
    "\n",
    "df['agent_summary'] = df.apply(get_agent_type, axis=1)\n",
    "# display(df['agent_summary'].value_counts())"
   ]
  },
  {
   "cell_type": "markdown",
   "metadata": {},
   "source": [
    "### Summarize Alignment Results"
   ]
  },
  {
   "cell_type": "code",
   "execution_count": null,
   "metadata": {},
   "outputs": [],
   "source": [
    "# create a summary of the alignment results\n",
    "def summarize_alignment_results(row: Dict) -> str:\n",
    "    \"\"\"\n",
    "    Summarize the alignment results for a given row.\n",
    "    \"\"\"\n",
    "    ground_truth_evidence = row['ground_truth_evidence']\n",
    "    generated_evidence = row['generated_evidence']\n",
    "    alignment_results = row['eval_evidence_alignment']\n",
    "    \n",
    "    if not len(ground_truth_evidence) == len(alignment_results):\n",
    "        print(f\"WARNING: Length mismatch between ground_truth_evidence and alignment_results for row {row}\")\n",
    "        # print(\"ground_truth_evidence: \", ground_truth_evidence)\n",
    "        # print(\"alignment_results: \", alignment_results)\n",
    "        # print(\"generated_evidence: \", generated_evidence)\n",
    "        # raise ValueError(\"Length mismatch between ground_truth_evidence and alignment_results\")\n",
    "    \n",
    "    values = {\n",
    "        \"supported\": 0,\n",
    "        \"contradicted\": 0,\n",
    "        \"missed\": 0\n",
    "    }\n",
    "    for i in range(len(ground_truth_evidence)):\n",
    "        res = alignment_results[i]['alignment']\n",
    "        res = res.strip().lower()\n",
    "        \n",
    "        if res not in ['supported', 'contradicted', 'missed']:\n",
    "            raise ValueError(f\"Invalid alignment result: {res}\")\n",
    "        \n",
    "        values[res] += 1\n",
    "        \n",
    "    for key, value in values.items():\n",
    "        row[f\"alignment_eval_{key}\"] = value\n",
    "        \n",
    "    return row\n",
    "\n",
    "df = df.apply(summarize_alignment_results, axis=1)\n",
    "df"
   ]
  },
  {
   "cell_type": "code",
   "execution_count": null,
   "metadata": {},
   "outputs": [],
   "source": []
  }
 ],
 "metadata": {
  "kernelspec": {
   "display_name": "BioDSA-T-z_U1Ew",
   "language": "python",
   "name": "python3"
  },
  "language_info": {
   "codemirror_mode": {
    "name": "ipython",
    "version": 3
   },
   "file_extension": ".py",
   "mimetype": "text/x-python",
   "name": "python",
   "nbconvert_exporter": "python",
   "pygments_lexer": "ipython3",
   "version": "3.12.3"
  }
 },
 "nbformat": 4,
 "nbformat_minor": 2
}
